{
  "nbformat": 4,
  "nbformat_minor": 0,
  "metadata": {
    "colab": {
      "name": "Symbolic Music Generation with Diffusion Models",
      "private_outputs": true,
      "provenance": [],
      "collapsed_sections": [],
      "authorship_tag": "ABX9TyNxS6mfhItygN0xKeCVaq0x",
      "include_colab_link": true
    },
    "kernelspec": {
      "name": "python3",
      "display_name": "Python 3"
    },
    "language_info": {
      "name": "python"
    }
  },
  "cells": [
    {
      "cell_type": "markdown",
      "metadata": {
        "id": "view-in-github",
        "colab_type": "text"
      },
      "source": [
        "<a href=\"https://colab.research.google.com/github/voodoohop/symbolic-music-diffusion/blob/main/colab/Symbolic_Music_Generation_with_Diffusion_Models.ipynb\" target=\"_parent\"><img src=\"https://colab.research.google.com/assets/colab-badge.svg\" alt=\"Open In Colab\"/></a>"
      ]
    },
    {
      "cell_type": "code",
      "metadata": {
        "id": "1S3YNjmd_WSK"
      },
      "source": [
        "!git clone https://github.com/voodoohop/symbolic-music-diffusion\n",
        "%cd symbolic-music-diffusion\n"
      ],
      "execution_count": null,
      "outputs": []
    },
    {
      "cell_type": "code",
      "metadata": {
        "cellView": "form",
        "id": "-cJZZQKWCEn7"
      },
      "source": [
        "#@title Requirements\n",
        "!pip install -r requirements.txt\n",
        "!sudo apt-get install build-essential libasound2-dev libjack-dev portaudio19-dev\n",
        "!pip install magenta"
      ],
      "execution_count": null,
      "outputs": []
    },
    {
      "cell_type": "code",
      "metadata": {
        "cellView": "form",
        "id": "mEPuEPQaGaoC"
      },
      "source": [
        "#@title Get Lakh MIDI Dataset\n",
        "%cd /content\n",
        "!wget http://hog.ee.columbia.edu/craffel/lmd/lmd_full.tar.gz\n",
        "!tar -xzvf lmd_full.tar.gz\n",
        "%cd -"
      ],
      "execution_count": null,
      "outputs": []
    },
    {
      "cell_type": "code",
      "metadata": {
        "cellView": "form",
        "id": "XhzXQnEHIIDy"
      },
      "source": [
        "#@title MIDI -> TFRecord\n",
        "!mkdir -p /content/notesequences\n",
        "\n",
        "# TFRecord file that will contain NoteSequence protocol buffers.\n",
        "\n",
        "!convert_dir_to_note_sequences \\\n",
        "  --input_dir=/content/lmd_full \\\n",
        "  --output_file=/content/notesequences/notesequences.tfrecord \\\n",
        "  --recursive"
      ],
      "execution_count": null,
      "outputs": []
    },
    {
      "cell_type": "code",
      "metadata": {
        "id": "c9GsLUY-NL-U"
      },
      "source": [
        "#@title MusicVAE Checkpoint (2 bar melody)\n",
        "!wget https://storage.googleapis.com/magentadata/models/music_vae/checkpoints/cat-mel_2bar_big.tar\n",
        "!tar -xvf cat-mel_2bar_big.tar\n",
        "!mkdir -p /content/musicvae\n",
        "!mv -v cat-mel_2bar_big.ckpt.* /content/musicvae"
      ],
      "execution_count": null,
      "outputs": []
    },
    {
      "cell_type": "code",
      "metadata": {
        "id": "_iigzDtLL1_x"
      },
      "source": [
        "#@title Generate Song Data\n",
        "!mkdir -p /content/songdata\n",
        "!python -m scripts.generate_song_data_beam \\\n",
        "  --checkpoint=/content/musicvae \\\n",
        "  --input=/content/notesequences/notesequences.tfrecord \\\n",
        "  --output=/content/songdata/"
      ],
      "execution_count": null,
      "outputs": []
    },
    {
      "cell_type": "code",
      "metadata": {
        "id": "Mq_ARaRcNFWp"
      },
      "source": [
        ""
      ],
      "execution_count": null,
      "outputs": []
    }
  ]
}